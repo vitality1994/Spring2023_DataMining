{
 "cells": [
  {
   "cell_type": "markdown",
   "id": "2a665b13",
   "metadata": {},
   "source": [
    "# CSCI 5523 Introduction of Data Mining\n",
    "## Assignment 1\n",
    "### Jooyong Lee"
   ]
  },
  {
   "cell_type": "code",
   "execution_count": 1,
   "id": "529720aa",
   "metadata": {},
   "outputs": [],
   "source": [
    "# Import necessary packages.\n",
    "import pyspark"
   ]
  },
  {
   "cell_type": "code",
   "execution_count": 2,
   "id": "80134be6",
   "metadata": {},
   "outputs": [],
   "source": [
    "# Create SparkContect object.\n",
    "if __name__ == '__main__':\n",
    "    \n",
    "    sc_conf = pyspark.SparkConf() \\\n",
    "        .setAppName('task1') \\\n",
    "        .setMaster('local[*]') \\\n",
    "        .set('spark.driver.memory', '8g') \\\n",
    "        .set('spark.executer.memory', '4g')\n",
    "    \n",
    "    sc = pyspark.SparkContext(conf=sc_conf)\n",
    "    sc.setLogLevel('OFF')"
   ]
  },
  {
   "cell_type": "code",
   "execution_count": 3,
   "id": "bd6a6c17",
   "metadata": {},
   "outputs": [],
   "source": [
    "# Read review.json as a textfile.\n",
    "review_rdd = sc.textFile('/Users/jooyong/Downloads/review.json')"
   ]
  },
  {
   "cell_type": "markdown",
   "id": "a1caae9e",
   "metadata": {},
   "source": [
    "### 4.1 Task1: Data Exploration\n",
    "#### 4.1.1 \n",
    "#### (A)"
   ]
  },
  {
   "cell_type": "code",
   "execution_count": 4,
   "id": "02cb3574",
   "metadata": {},
   "outputs": [],
   "source": [
    "# Every line include one sample, so seperate txt with 'changes of a line'.\n",
    "length_review_rdd = review_rdd.map(lambda x: (x.split('\\b')[0], 1)).count()"
   ]
  },
  {
   "cell_type": "code",
   "execution_count": 5,
   "id": "085d7532",
   "metadata": {},
   "outputs": [
    {
     "name": "stdout",
     "output_type": "stream",
     "text": [
      "The number of reviews is 1151625\n"
     ]
    }
   ],
   "source": [
    "# It will print the number of lines, which is the number of samples(reviews).\n",
    "print('The number of reviews is', length_review_rdd)"
   ]
  },
  {
   "cell_type": "markdown",
   "id": "24ab1fe7",
   "metadata": {},
   "source": [
    "#### (B)"
   ]
  },
  {
   "cell_type": "code",
   "execution_count": 6,
   "id": "bf36abee",
   "metadata": {},
   "outputs": [],
   "source": [
    "# Mapping to make (year of the review, 1) key:value pairs.\n",
    "year_review_rdd = review_rdd.map(lambda x: (eval(x.split('\\b')[0])['date'][:4], 1))"
   ]
  },
  {
   "cell_type": "code",
   "execution_count": 7,
   "id": "591de3f1",
   "metadata": {},
   "outputs": [
    {
     "data": {
      "text/plain": [
       "[('2017', 1),\n",
       " ('2018', 1),\n",
       " ('2015', 1),\n",
       " ('2017', 1),\n",
       " ('2017', 1),\n",
       " ('2016', 1),\n",
       " ('2017', 1),\n",
       " ('2018', 1),\n",
       " ('2017', 1),\n",
       " ('2014', 1)]"
      ]
     },
     "execution_count": 7,
     "metadata": {},
     "output_type": "execute_result"
    }
   ],
   "source": [
    "# Let's observe the first 10 samples.\n",
    "year_review_rdd.take(10)"
   ]
  },
  {
   "cell_type": "code",
   "execution_count": 8,
   "id": "0b520045",
   "metadata": {},
   "outputs": [],
   "source": [
    "# Reducing by key(year of the review) to make (year of the review, counts) key:value pairs.\n",
    "grouped_year_review_rdd = year_review_rdd.reduceByKey(lambda a, b:a+b)"
   ]
  },
  {
   "cell_type": "code",
   "execution_count": 9,
   "id": "1e17321d",
   "metadata": {},
   "outputs": [
    {
     "data": {
      "text/plain": [
       "[('2005', 140),\n",
       " ('2014', 121373),\n",
       " ('2017', 209995),\n",
       " ('2009', 17288),\n",
       " ('2013', 84560),\n",
       " ('2011', 52224),\n",
       " ('2016', 189189),\n",
       " ('2012', 63540),\n",
       " ('2010', 32077),\n",
       " ('2006', 891),\n",
       " ('2007', 3627),\n",
       " ('2004', 3),\n",
       " ('2018', 202784),\n",
       " ('2015', 164146),\n",
       " ('2008', 9788)]"
      ]
     },
     "execution_count": 9,
     "metadata": {},
     "output_type": "execute_result"
    }
   ],
   "source": [
    "# Let's observe samples. We can observe the number of reviews(value) depends on the given year(key).\n",
    "grouped_year_review_rdd.collect()"
   ]
  },
  {
   "cell_type": "markdown",
   "id": "a8562666",
   "metadata": {},
   "source": [
    "#### (C)"
   ]
  },
  {
   "cell_type": "code",
   "execution_count": 10,
   "id": "146e8b08",
   "metadata": {},
   "outputs": [],
   "source": [
    "# Mapping to make (user_id, 1) key:value pairs.\n",
    "user_review_rdd = review_rdd.map(lambda x: (eval(x.split('\\b')[0])['user_id'], 1))"
   ]
  },
  {
   "cell_type": "code",
   "execution_count": 11,
   "id": "65ce5c2e",
   "metadata": {},
   "outputs": [
    {
     "name": "stdout",
     "output_type": "stream",
     "text": [
      "The number of distinct users is: 566269\n"
     ]
    }
   ],
   "source": [
    "# It will print the number of distinct users.\n",
    "print('The number of distinct users is:', user_review_rdd.distinct().count())"
   ]
  },
  {
   "cell_type": "markdown",
   "id": "b19a6fcb",
   "metadata": {},
   "source": [
    "#### (D)"
   ]
  },
  {
   "cell_type": "code",
   "execution_count": 12,
   "id": "59d7b252",
   "metadata": {},
   "outputs": [],
   "source": [
    "# Reducing by key(user_id of the review) to make (user_id of the review, counts) key:value pairs.\n",
    "grouped_user_review_rdd=user_review_rdd.reduceByKey(lambda a, b:a+b)"
   ]
  },
  {
   "cell_type": "code",
   "execution_count": 13,
   "id": "f4ac638a",
   "metadata": {},
   "outputs": [
    {
     "data": {
      "text/plain": [
       "[('CxDOIDnH8gp9KXzpBHJYXw', 715),\n",
       " ('bLbSNkLggFnqwNNzzq-Ijw', 424),\n",
       " ('PKEzKWv_FktMm2mGPjwd0Q', 322),\n",
       " ('DK57YibC5ShBmqQl97CKog', 291),\n",
       " ('ELcQDlf69kb-ihJfxZyL0A', 288),\n",
       " ('U4INQZOPSUaj8hMjLlZ3KA', 276),\n",
       " ('QJI9OSEn6ujRCtrX06vs1w', 258),\n",
       " ('d_TBs6J3twMy9GChqUEXkg', 253),\n",
       " ('hWDybu_KvYLSdEFzGrniTw', 239),\n",
       " ('dIIKEfOgo0KqUfGQvGikPg', 216),\n",
       " ('UYcmGbelzRa0Q6JqzLoguw', 210),\n",
       " ('n86B7IkbU20AkxlFX_5aew', 208),\n",
       " ('YRcaNlwQ6XXPFDXWtuMGdA', 207),\n",
       " ('rCWrxuRC8_pfagpchtHp6A', 203),\n",
       " ('62GNFh5FySkA3MbrQmnqvg', 200)]"
      ]
     },
     "execution_count": 13,
     "metadata": {},
     "output_type": "execute_result"
    }
   ],
   "source": [
    "# Order tuples in descending order and print out first 15 of users who have the largest reviews.\n",
    "grouped_user_review_rdd.sortBy(lambda x:x[1], ascending=False).take(15)"
   ]
  },
  {
   "cell_type": "markdown",
   "id": "d52e98da",
   "metadata": {},
   "source": [
    "#### (E)"
   ]
  },
  {
   "cell_type": "code",
   "execution_count": 14,
   "id": "c75aa001",
   "metadata": {},
   "outputs": [],
   "source": [
    "# Read given stopwords and make the list of it.\n",
    "stopwords = open('/Users/jooyong/Downloads/stopwords')\n",
    "list_stopwrods = stopwords.read().split(\"\\n\")"
   ]
  },
  {
   "cell_type": "code",
   "execution_count": 25,
   "id": "b0e00dbe",
   "metadata": {},
   "outputs": [],
   "source": [
    "# Make a list of punctuations to replace it to empty space.\n",
    "table = str.maketrans(\"(){}[],./?!~@#$%^&*()_+-=:;'<>|\", \"                               \")\n",
    "\n",
    "# Mapping to make (word, 1) key:value pairs.\n",
    "text_review_rdd = review_rdd.flatMap(lambda x: eval(x.split('\\b')[0])['text'].translate(table).split(\" \")). \\\n",
    "                  map(lambda word: (word.lower(),1))"
   ]
  },
  {
   "cell_type": "code",
   "execution_count": 26,
   "id": "08d5cb1d",
   "metadata": {},
   "outputs": [
    {
     "data": {
      "text/plain": [
       "[('walked', 1),\n",
       " ('in', 1),\n",
       " ('around', 1),\n",
       " ('4', 1),\n",
       " ('on', 1),\n",
       " ('a', 1),\n",
       " ('friday', 1),\n",
       " ('afternoon', 1),\n",
       " ('', 1),\n",
       " ('we', 1)]"
      ]
     },
     "execution_count": 26,
     "metadata": {},
     "output_type": "execute_result"
    }
   ],
   "source": [
    "# Let's observe first 10 samples.\n",
    "text_review_rdd.take(10)"
   ]
  },
  {
   "cell_type": "code",
   "execution_count": 27,
   "id": "d941150f",
   "metadata": {},
   "outputs": [],
   "source": [
    "# Reducing by key(word) to make (word, counts) key:value pairs.\n",
    "grouped_text_review_rdd = text_review_rdd.reduceByKey(lambda a, b: a+b)"
   ]
  },
  {
   "cell_type": "code",
   "execution_count": 28,
   "id": "a1d32893",
   "metadata": {},
   "outputs": [
    {
     "data": {
      "text/plain": [
       "[('', 19035555),\n",
       " ('even', 221288),\n",
       " ('they', 1056404),\n",
       " ('noticed', 19062),\n",
       " ('not', 778025),\n",
       " ('for', 1524958),\n",
       " ('well', 200407),\n",
       " ('from', 364129),\n",
       " ('ever', 116449),\n",
       " ('sure', 115352)]"
      ]
     },
     "execution_count": 28,
     "metadata": {},
     "output_type": "execute_result"
    }
   ],
   "source": [
    "# Let's observe first 10 samples.\n",
    "grouped_text_review_rdd.take(10)"
   ]
  },
  {
   "cell_type": "code",
   "execution_count": 29,
   "id": "d4527b25",
   "metadata": {},
   "outputs": [],
   "source": [
    "# Sort by key values in descending order.\n",
    "sorted_grouped_text_review_rdd = grouped_text_review_rdd.sortBy(lambda x:x[1], ascending=False).collect()"
   ]
  },
  {
   "cell_type": "code",
   "execution_count": 30,
   "id": "d1187191",
   "metadata": {},
   "outputs": [],
   "source": [
    "# exclude tuples includes a stopword.\n",
    "for i in sorted_grouped_text_review_rdd[:]:\n",
    "    if i[0] in list_stopwrods:\n",
    "        sorted_grouped_text_review_rdd.remove(i)"
   ]
  },
  {
   "cell_type": "code",
   "execution_count": 32,
   "id": "6ade6a88",
   "metadata": {},
   "outputs": [
    {
     "data": {
      "text/plain": [
       "[('food', 570906),\n",
       " ('place', 561700),\n",
       " ('good', 558467),\n",
       " ('great', 493678),\n",
       " ('like', 407575),\n",
       " ('service', 404218),\n",
       " ('time', 401935),\n",
       " ('get', 384771),\n",
       " ('one', 374984),\n",
       " ('would', 356249),\n",
       " ('back', 346633),\n",
       " ('go', 312129),\n",
       " ('really', 291100),\n",
       " ('also', 243432),\n",
       " ('us', 240380),\n",
       " ('ve', 231404),\n",
       " ('got', 226852),\n",
       " ('even', 221288),\n",
       " ('nice', 211832),\n",
       " ('m', 203185),\n",
       " ('well', 200407),\n",
       " ('best', 197236),\n",
       " ('always', 185229),\n",
       " ('came', 184227),\n",
       " ('ordered', 181675),\n",
       " ('staff', 180179),\n",
       " ('love', 179673),\n",
       " ('didn', 178044),\n",
       " ('order', 176664),\n",
       " ('first', 172272)]"
      ]
     },
     "execution_count": 32,
     "metadata": {},
     "output_type": "execute_result"
    }
   ],
   "source": [
    "# Top 30 frequent words.\n",
    "sorted_grouped_text_review_rdd[:30]"
   ]
  }
 ],
 "metadata": {
  "kernelspec": {
   "display_name": "pyspark-env",
   "language": "python",
   "name": "pyspark-env"
  },
  "language_info": {
   "codemirror_mode": {
    "name": "ipython",
    "version": 3
   },
   "file_extension": ".py",
   "mimetype": "text/x-python",
   "name": "python",
   "nbconvert_exporter": "python",
   "pygments_lexer": "ipython3",
   "version": "3.9.12"
  }
 },
 "nbformat": 4,
 "nbformat_minor": 5
}
